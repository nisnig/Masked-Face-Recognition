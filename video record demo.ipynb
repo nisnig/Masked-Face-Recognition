{
 "cells": [
  {
   "cell_type": "code",
   "execution_count": 10,
   "metadata": {
    "ExecuteTime": {
     "end_time": "2021-01-20T11:34:46.059707Z",
     "start_time": "2021-01-20T11:34:46.044480Z"
    }
   },
   "outputs": [],
   "source": [
    "import pickle\n",
    "\n",
    "mask_model = pickle.load(open('check_mask.sav', 'rb'))\n",
    "wmask_model = pickle.load(open('w_mask.sav', 'rb'))\n",
    "womask_model = pickle.load(open('wo_mask.sav', 'rb'))"
   ]
  },
  {
   "cell_type": "code",
   "execution_count": 11,
   "metadata": {
    "ExecuteTime": {
     "end_time": "2021-01-20T11:34:48.112308Z",
     "start_time": "2021-01-20T11:34:48.102692Z"
    }
   },
   "outputs": [],
   "source": [
    "import numpy as np\n",
    "import matplotlib.pyplot as plt \n",
    "from sklearn.metrics import accuracy_score\n",
    "from sklearn.preprocessing import LabelEncoder\n",
    "from sklearn.preprocessing import Normalizer\n",
    "from sklearn.svm import SVC\n",
    "\n",
    "import mtcnn\n",
    "from PIL import Image\n",
    "\n",
    "# Suppress warnings\n",
    "import logging\n",
    "logging.getLogger('tensorflow').disabled = True\n",
    "\n",
    "# Force GPU mode\n",
    "import os\n",
    "os.environ[\"CUDA_DEVICE_ORDER\"]=\"PCI_BUS_ID\"\n",
    "os.environ['CUDA_VISIBLE_DEVICES'] = '1'\n",
    "\n",
    "# from tensorflow.python.client import device_lib\n",
    "# print(device_lib.list_local_devices())"
   ]
  },
  {
   "cell_type": "code",
   "execution_count": 12,
   "metadata": {
    "ExecuteTime": {
     "end_time": "2021-01-20T11:34:56.361865Z",
     "start_time": "2021-01-20T11:34:53.296720Z"
    }
   },
   "outputs": [],
   "source": [
    "from keras_facenet import FaceNet\n",
    "embedder = FaceNet()\n",
    "\n",
    "def create_embedding(face):\n",
    "    \n",
    "    # Make prediction to get embedding\n",
    "    detections = embedder.extract(face)\n",
    "    \n",
    "    # Return embedding (flatten it first)\n",
    "    return detections[0]['embedding']"
   ]
  },
  {
   "cell_type": "code",
   "execution_count": 7,
   "metadata": {
    "ExecuteTime": {
     "end_time": "2021-01-20T08:55:22.627420Z",
     "start_time": "2021-01-20T08:55:22.612946Z"
    }
   },
   "outputs": [
    {
     "data": {
      "text/plain": [
       "LabelEncoder()"
      ]
     },
     "execution_count": 7,
     "metadata": {},
     "output_type": "execute_result"
    }
   ],
   "source": [
    "in_encoder1 = Normalizer(norm = 'l2')\n",
    "\n",
    "data1 = np.load('lt3.npz')\n",
    "train_Y1 = data1['arr_1']\n",
    "out_encoder1 = LabelEncoder()\n",
    "out_encoder1.fit(train_Y1)"
   ]
  },
  {
   "cell_type": "code",
   "execution_count": 8,
   "metadata": {
    "ExecuteTime": {
     "end_time": "2021-01-20T08:55:44.565158Z",
     "start_time": "2021-01-20T08:55:44.550521Z"
    }
   },
   "outputs": [
    {
     "data": {
      "text/plain": [
       "LabelEncoder()"
      ]
     },
     "execution_count": 8,
     "metadata": {},
     "output_type": "execute_result"
    }
   ],
   "source": [
    "in_encoder2 = Normalizer(norm = 'l2')\n",
    "\n",
    "data2 = np.load('lt3_mask.npz')\n",
    "train_Y2 = data2['arr_1']\n",
    "out_encoder2 = LabelEncoder()\n",
    "out_encoder2.fit(train_Y2)"
   ]
  },
  {
   "cell_type": "code",
   "execution_count": 9,
   "metadata": {
    "ExecuteTime": {
     "end_time": "2021-01-20T08:55:46.043550Z",
     "start_time": "2021-01-20T08:55:46.029637Z"
    }
   },
   "outputs": [
    {
     "data": {
      "text/plain": [
       "LabelEncoder()"
      ]
     },
     "execution_count": 9,
     "metadata": {},
     "output_type": "execute_result"
    }
   ],
   "source": [
    "in_encoder3 = Normalizer(norm = 'l2')\n",
    "\n",
    "data3 = np.load('lt3_maskornot.npz')\n",
    "train_Y3 = data3['arr_1']\n",
    "out_encoder3 = LabelEncoder()\n",
    "out_encoder3.fit(train_Y3)"
   ]
  },
  {
   "cell_type": "code",
   "execution_count": null,
   "metadata": {},
   "outputs": [],
   "source": [
    "import cv2\n",
    "\n",
    "classifier = cv2.CascadeClassifier('models/haarcascade_frontalface_default.xml')\n",
    "video_capture = cv2.VideoCapture(0)\n",
    "\n",
    "while True:\n",
    "\n",
    "    ret, frame = video_capture.read()\n",
    "\n",
    "    faces = classifier.detectMultiScale(frame)\n",
    "\n",
    "    for result in faces:\n",
    "        \n",
    "        x, y, w, h = result\n",
    "        x1, y1 = x + w, y + h\n",
    "        \n",
    "        r = max(w, h) / 2\n",
    "        centerx = x + w / 2\n",
    "        centery = y + h / 2\n",
    "        nx = int(centerx - r)\n",
    "        ny = int(centery - r)\n",
    "        nr = int(r * 2)\n",
    "\n",
    "        face = frame[ny:ny+nr, nx:nx+nr]\n",
    "        face = cv2.resize(face, (160, 160))\n",
    "\n",
    "        # Create embedding\n",
    "        embedding = create_embedding(face)\n",
    "        embedding1 = np.expand_dims(embedding, axis = 0)\n",
    "        embedding_t = in_encoder.transform(embedding)\n",
    "        \n",
    "        # Predict\n",
    "        check_mask = mask_model.predict(embedding_t)\n",
    "        if check_mask == 1:\n",
    "            model_classifier = wmask_model\n",
    "        else:\n",
    "            model_classifier = womask_model\n",
    "            \n",
    "        yhat_class = model_classifier.predict(embedding_t)\n",
    "        yhat_prob = model_classifier.decision_function(embedding_t)[0]/sum(model_classifier.decision_function(embedding_t)[0])\n",
    "        \n",
    "        # Get name\n",
    "        class_index = yhat_class[0]\n",
    "        class_probability = yhat_prob[class_index] * 100\n",
    "        predict_name = out_encoder.inverse_transform(yhat_class)\n",
    "        \n",
    "        # Draw box and name\n",
    "        color = COLORS[class_index, :].tolist()\n",
    "        cv2.rectangle(frame, (x, y), (x1, y1), color, 2)\n",
    "        face_name = '%s (%.3f)' % (predict_name[0], class_probability)\n",
    "        cv2.putText(frame, face_name, (x, y1 + 20), cv2.FONT_HERSHEY_SIMPLEX, 0.5, color, 1, cv2.LINE_AA)\n",
    "        \n",
    "    # Display the resulting frame\n",
    "    cv2.imshow('Video', frame)\n",
    "\n",
    "    if cv2.waitKey(1) & 0xFF == ord('q'):\n",
    "        break\n",
    "\n",
    "# When everything is done, release the capture\n",
    "video_capture.release()\n",
    "cv2.destroyAllWindows()"
   ]
  }
 ],
 "metadata": {
  "kernelspec": {
   "display_name": "Python 3",
   "language": "python",
   "name": "python3"
  },
  "language_info": {
   "codemirror_mode": {
    "name": "ipython",
    "version": 3
   },
   "file_extension": ".py",
   "mimetype": "text/x-python",
   "name": "python",
   "nbconvert_exporter": "python",
   "pygments_lexer": "ipython3",
   "version": "3.8.6"
  },
  "toc": {
   "base_numbering": 1,
   "nav_menu": {},
   "number_sections": true,
   "sideBar": true,
   "skip_h1_title": false,
   "title_cell": "Table of Contents",
   "title_sidebar": "Contents",
   "toc_cell": false,
   "toc_position": {},
   "toc_section_display": true,
   "toc_window_display": false
  },
  "varInspector": {
   "cols": {
    "lenName": 16,
    "lenType": 16,
    "lenVar": 40
   },
   "kernels_config": {
    "python": {
     "delete_cmd_postfix": "",
     "delete_cmd_prefix": "del ",
     "library": "var_list.py",
     "varRefreshCmd": "print(var_dic_list())"
    },
    "r": {
     "delete_cmd_postfix": ") ",
     "delete_cmd_prefix": "rm(",
     "library": "var_list.r",
     "varRefreshCmd": "cat(var_dic_list()) "
    }
   },
   "types_to_exclude": [
    "module",
    "function",
    "builtin_function_or_method",
    "instance",
    "_Feature"
   ],
   "window_display": false
  }
 },
 "nbformat": 4,
 "nbformat_minor": 4
}
